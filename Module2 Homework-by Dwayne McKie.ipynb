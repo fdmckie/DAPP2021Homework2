{
 "cells": [
  {
   "cell_type": "markdown",
   "metadata": {},
   "source": [
    "1. Round 4.5667 to the nearest hundreth using a build-in function, round()."
   ]
  },
  {
   "cell_type": "code",
   "execution_count": 1,
   "metadata": {},
   "outputs": [
    {
     "name": "stdout",
     "output_type": "stream",
     "text": [
      "4.57\n"
     ]
    }
   ],
   "source": [
    "#using the round() built-in function, round off the numeric value 4.5667 to the nearest hundreth\n",
    "\n",
    "#place the numeric value into a variable and round off to the nearest hundreth\n",
    "value = round(4.5667, 2)\n",
    "print(value)"
   ]
  },
  {
   "cell_type": "markdown",
   "metadata": {},
   "source": [
    "2. Convert \"657\" to an integer data type"
   ]
  },
  {
   "cell_type": "code",
   "execution_count": 2,
   "metadata": {},
   "outputs": [
    {
     "name": "stdout",
     "output_type": "stream",
     "text": [
      "657\n",
      "<class 'int'>\n"
     ]
    }
   ],
   "source": [
    "#convert the string \"657\" to an integer data type\n",
    "\n",
    "#place the string into a variable\n",
    "value = \"657\"\n",
    "\n",
    "#convert the string value into an integer and place the integer into another variable\n",
    "ivalue = int(value)\n",
    "\n",
    "#print the integer from the variable that has the integer value\n",
    "print(ivalue)\n",
    "\n",
    "#print the data type of the variable that contains the integer\n",
    "print(type(ivalue))"
   ]
  },
  {
   "cell_type": "markdown",
   "metadata": {},
   "source": [
    "3.\n",
    "Write a program to get two numbers from a user. Then, create a secret code where a code consists of 6 numbers and each number is randomly generated number between two numbers from a user. "
   ]
  },
  {
   "cell_type": "code",
   "execution_count": 1,
   "metadata": {
    "scrolled": true
   },
   "outputs": [
    {
     "name": "stdout",
     "output_type": "stream",
     "text": [
      "Please enter 2 numbers\n",
      "Enter the 1st number:\n",
      ">9\n",
      "Enter the 2nd number --should be larger than the 1st number entered--:\n",
      ">99\n",
      " \n",
      "The secret code is: \n",
      "42\n",
      "12\n",
      "48\n",
      "87\n",
      "84\n",
      "93\n",
      "42\t12\t48\t87\t84\t93\n"
     ]
    }
   ],
   "source": [
    "#import the library that contains the built-in function randint()\n",
    "import random as rand\n",
    "\n",
    "#have the user enter two numbers via keyboard\n",
    "prompt = \">\"\n",
    "print(\"Please enter 2 numbers\")\n",
    "\n",
    "#prompt the user to enter the 1st number\n",
    "print(\"Enter the 1st number:\")\n",
    "\n",
    "#convert the 1st numeric entry into an integer\n",
    "number1 = int(input(prompt))\n",
    "\n",
    "#prompt the user to enter the 2nd number\n",
    "print(\"Enter the 2nd number --should be larger than the 1st number entered--:\")\n",
    "\n",
    "#convert the 2nd numeric entry into an integer\n",
    "number2 = int(input(prompt))\n",
    "\n",
    "#create the 6 numbers for the secret code\n",
    "code1 = rand.randint(number1, number2)\n",
    "code2 = rand.randint(number1, number2)\n",
    "code3 = rand.randint(number1, number2)\n",
    "code4 = rand.randint(number1, number2)\n",
    "code5 = rand.randint(number1, number2)\n",
    "code6 = rand.randint(number1, number2)\n",
    "\n",
    "#create the 6 \"secret\" number via randint() function based on the 2 numbers entered by the user\n",
    "#and print the 6 \"secret\" numbers\n",
    "\n",
    "print(\" \")\n",
    "print(\"The secret code is: \")\n",
    "print(code1)\n",
    "print(code2)\n",
    "print(code3)\n",
    "print(code4)\n",
    "print(code5)\n",
    "print(code6)\n",
    "print(f\"{code1}\\t{code2}\\t{code3}\\t{code4}\\t{code5}\\t{code6}\")"
   ]
  },
  {
   "cell_type": "markdown",
   "metadata": {},
   "source": [
    "4.\n",
    "Write a program to center align below text where number of characters per line is 40:\n",
    "\n",
    "    Hickory, dickory, dock,\n",
    "    The mouse ran up the clock.\n",
    "    The clock struck one,\n",
    "    The mouse ran down,\n",
    "    Hickory, dickory, dock\n"
   ]
  },
  {
   "cell_type": "code",
   "execution_count": 4,
   "metadata": {},
   "outputs": [
    {
     "name": "stdout",
     "output_type": "stream",
     "text": [
      " \n",
      "1234567890123456789012345678901234567890\n",
      "        Hickory, dickory, dock,         \n",
      "      The mouse ran up the clock.       \n",
      "         The clock struck one,          \n",
      "          The mouse ran down,           \n",
      "         Hickory, dickory, dock         \n"
     ]
    }
   ],
   "source": [
    "#place the 5 strings into 5 separate variables\n",
    "\n",
    "line1 = \"Hickory, dickory, dock,\"\n",
    "line2 = \"The mouse ran up the clock.\"\n",
    "line3 = \"The clock struck one,\"\n",
    "line4 = \"The mouse ran down,\"\n",
    "line5 = \"Hickory, dickory, dock\"\n",
    "\n",
    "\n",
    "#create a constant variable that will contain the maximum number of characters per line (40)\n",
    "MAX_CHAR = 40\n",
    "#print(\"1234567890123456789012345678901234567890\")\n",
    "\n",
    "#use the built-in function strip() to remove the spaces from the left and right of the string in the line1 variable\n",
    "line1 = line1.strip()\n",
    "\n",
    "#compute the difference between maximux number of characters possible and the actual number of characters in the line1\n",
    "#variable\n",
    "diff1 = MAX_CHAR - len(line1)\n",
    "\n",
    "#compute the amount of spaces to the left and right of the string value in the line1 variable\n",
    "\n",
    "#if the value of the diff_remain1 variable is 0, the number of spaces on the left and right of the line1 variable\n",
    "#will be equal\n",
    "#if the value of the diff_remain1 variable is 1, add 1 extra space to the right of the line1 string\n",
    "\n",
    "diff_remain1 = diff1 % 2\n",
    "diff_left1 = diff1 // 2\n",
    "diff_right1 = diff_left1 + diff_remain1\n",
    "\n",
    "#determine the number of actual spaces to the left and right of string value of the line1 variable\n",
    "padding_left1 = \" \" * diff_left1\n",
    "padding_right1 = \" \" * diff_right1\n",
    "\n",
    "#these lines of code should only be used for testing purposes to help with the center-justification of the line1 variable\n",
    "#print(\"length of Line 1 is: \", len(line1))\n",
    "#print(\"number of spaces in Line 1 is: \", diff1)\n",
    "#print(\"average number of spaces in Line 1 is \", diff_left1, \"with a remainder of \", diff_remain1)\n",
    "#print(\" \")\n",
    "\n",
    "#use the built-in function strip() to remove the spaces from the left and right of the string in the line2 variable\n",
    "line2 = line2.strip()\n",
    "\n",
    "#compute the difference between maximux number of characters possible and the actual number of characters in the line2\n",
    "#variable\n",
    "diff2 = MAX_CHAR - len(line2)\n",
    "\n",
    "#compute the amount of spaces to the left and right of the string value in the line2 variable\n",
    "\n",
    "#if the value of the diff_remain1 variable is 0, the number of spaces on the left and right of the line2 variable\n",
    "#will be equal\n",
    "#if the value of the diff_remain1 variable is 1, add 1 extra space to the right of the line2 string\n",
    "diff_remain2 = diff2 % 2\n",
    "diff_left2 = diff2 // 2\n",
    "diff_right2 = diff_left2 + diff_remain2\n",
    "\n",
    "#determine the number of actual spaces to the left and right of string value of the line2 variable\n",
    "padding_left2 = \" \" * diff_left2\n",
    "padding_right2 = \" \" * diff_right2\n",
    "\n",
    "#these lines of code should only be used for testing purposes to help with the center-justification of the line1 variable\n",
    "#print(\"length of Line 2 is: \", len(line2))\n",
    "#print(\"number of spaces in Line 2 is: \", diff2)\n",
    "#print(\"average number of spaces in Line 2 is \", diff_left2, \"with a remainder of \", diff_remain2)\n",
    "#print(\" \")\n",
    "\n",
    "\n",
    "#use the built-in function strip() to remove the spaces from the left and right of the string in the line3 variable\n",
    "line3 = line3.strip()\n",
    "\n",
    "#compute the difference between maximux number of characters possible and the actual number of characters in the line3\n",
    "#variable\n",
    "diff3 = MAX_CHAR - len(line3)\n",
    "\n",
    "#compute the amount of spaces to the left and right of the string value in the line3 variable\n",
    "diff_remain3 = diff3 % 2\n",
    "diff_left3 = diff3 // 2\n",
    "diff_right3 = diff_left3 + diff_remain3\n",
    "\n",
    "#determine the number of actual spaces to the left and right of string value of the line3 variable\n",
    "padding_left3 = \" \" * diff_left3\n",
    "padding_right3 = \" \" * diff_right3\n",
    "\n",
    "#these lines of code should only be used for testing purposes to help with the center-justification of the line3 variable\n",
    "#print(\"length of Line 3 is: \", len(line3))\n",
    "#print(\"number of spaces in Line 3 is: \", diff3)\n",
    "#print(\"average number of spaces in Line 3 is \", diff_left3, \"with a remainder of \", diff_remain3)\n",
    "#print(\" \")\n",
    "\n",
    "#use the built-in function strip() to remove the spaces from the left and right of the string in the line4 variable\n",
    "line4 = line4.strip()\n",
    "\n",
    "#compute the difference between maximux number of characters possible and the actual number of characters in the line4\n",
    "#variable\n",
    "diff4 = MAX_CHAR - len(line4)\n",
    "\n",
    "#compute the amount of spaces to the left and right of the string value in the line4 variable\n",
    "diff_remain4 = diff4 % 2\n",
    "diff_left4 = diff4 // 2\n",
    "diff_right4 = diff_left4 + diff_remain4\n",
    "\n",
    "#determine the number of actual spaces to the left and right of string value of the line4 variable\n",
    "padding_left4 = \" \" * diff_left4\n",
    "padding_right4 = \" \" * diff_right4\n",
    "\n",
    "#these lines of code should only be used for testing purposes to help with the center-justification of the line4 variable\n",
    "#print(\"length of Line 4 is: \", len(line4))\n",
    "#print(\"number of spaces in Line 4 is: \", diff4)\n",
    "#print(\"average number of spaces in Line 4 is \", diff_left4, \"with a remainder of \", diff_remain4)\n",
    "#print(\" \")\n",
    "\n",
    "#use the built-in function strip() to remove the spaces from the left and right of the string in the line5 variable\n",
    "line5 = line5.strip()\n",
    "\n",
    "#compute the difference between maximux number of characters possible and the actual number of characters in the line5\n",
    "#variable\n",
    "diff5 = MAX_CHAR - len(line5)\n",
    "\n",
    "#compute the amount of spaces to the left and right of the string value in the line5 variable\n",
    "diff_remain5 = diff5 % 2\n",
    "diff_left5 = diff5 // 2\n",
    "diff_right5 = diff_left5 + diff_remain5\n",
    "\n",
    "#determine the number of actual spaces to the left and right of string value of the line5 variable\n",
    "padding_left5 = \" \" * diff_left5\n",
    "padding_right5 = \" \" * diff_right5\n",
    "\n",
    "#these lines of code should only be used for testing purposes to help with the center-justification of the line5 variable\n",
    "#print(\"length of Line 5 is: \", len(line5))\n",
    "#print(\"number of spaces in Line 5 is: \", diff5)\n",
    "#print(\"average number of spaces in Line 5 is \", diff_left5, \"with a remainder of \", diff_remain5)\n",
    "print(\" \")\n",
    "\n",
    "\n",
    "#print the 5 string values with center-justification\n",
    "\n",
    "print(\"1234567890123456789012345678901234567890\")\n",
    "print(f\"{padding_left1}{line1}{padding_right1}\")\n",
    "print(f\"{padding_left2}{line2}{padding_right2}\")\n",
    "print(f\"{padding_left3}{line3}{padding_right3}\")\n",
    "print(f\"{padding_left4}{line4}{padding_right4}\")\n",
    "print(f\"{padding_left5}{line5}{padding_right5}\")\n",
    "\n"
   ]
  },
  {
   "cell_type": "markdown",
   "metadata": {},
   "source": [
    "5. Write a function to calculate the miles per gallon.\n",
    "Get a miles driven and gallons used from a user and call your function to calculate the miles per gallon. "
   ]
  },
  {
   "cell_type": "code",
   "execution_count": 5,
   "metadata": {},
   "outputs": [
    {
     "name": "stdout",
     "output_type": "stream",
     "text": [
      "Please enter miles driven\n",
      ">625\n",
      "Please enter gallons used\n",
      ">22\n",
      "The vehicle drove 28.41 miles per gallon\n"
     ]
    }
   ],
   "source": [
    "#create a function that will compute a vehicle's average miles per gallone based on info entered by the user and display the\n",
    "#value using the round function rounding to the nearest hundreth\n",
    "\n",
    "def mpg_function(miles_driven_2, gallons_used_2) :\n",
    "    miles_per_gallon = miles_driven / gallons_used\n",
    "    print(\"The vehicle drove\", round(miles_per_gallon, 2), \"miles per gallon\")\n",
    "    return\n",
    "\n",
    "\n",
    "#have the user enter info\n",
    "prompt = \">\"\n",
    "\n",
    "#enter numeric value of miles driven in vehicle\n",
    "print(\"Please enter miles driven\")\n",
    "\n",
    "#convert numeric value of miles driven into an integer and store that value into a variable\n",
    "miles_driven = int(input(prompt))\n",
    "\n",
    "#enter numeric value of gallons used by vehicle\n",
    "print(\"Please enter gallons used\")\n",
    "\n",
    "#convert numeric value of gallons used into an integer and store that value into a variable\n",
    "gallons_used = int(input(prompt))\n",
    "\n",
    "#call the function that will compute the average miles per gallon and pass along the 2 values needed for computation\n",
    "mpg_function(miles_driven, gallons_used)\n",
    "\n",
    "\n",
    "\n"
   ]
  },
  {
   "cell_type": "code",
   "execution_count": null,
   "metadata": {},
   "outputs": [],
   "source": []
  }
 ],
 "metadata": {
  "kernelspec": {
   "display_name": "Python 3",
   "language": "python",
   "name": "python3"
  },
  "language_info": {
   "codemirror_mode": {
    "name": "ipython",
    "version": 3
   },
   "file_extension": ".py",
   "mimetype": "text/x-python",
   "name": "python",
   "nbconvert_exporter": "python",
   "pygments_lexer": "ipython3",
   "version": "3.8.8"
  }
 },
 "nbformat": 4,
 "nbformat_minor": 4
}
